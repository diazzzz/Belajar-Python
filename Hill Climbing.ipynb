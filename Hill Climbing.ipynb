{
 "cells": [
  {
   "cell_type": "markdown",
   "metadata": {},
   "source": [
    "# Algoritma Hill Climbing"
   ]
  },
  {
   "attachments": {
    "soal%20hill%20climbing.jpg": {
     "image/jpeg": "[encoded data removed]"
    }
   },
   "cell_type": "markdown",
   "metadata": {},
   "source": [
    "**Hill Climbing merupakan algoritma yang dapat digunakan untuk mencari jalur terpendek diantara berbagai jalur yang ada. Kasus yang biasanya terjadi adalah Travelling Salesman Problem. Seorang salesman yang ingin mengunjungi berbagai tempat sekaligus, maka dia harus mencari tempat yang berdekatan agar tidak membuang waktu dan tenaganya.**\n",
    "\n",
    "**Pada kasus kali ini, kita akan menggunakan kasus Robot Pemadam Kebakaran yang akan memadamkan api di beberapa titik api. Algoritma ini sangat penting, karena semakin lama robot datang, maka api akan semakin membesar dan semakin sulit dipadamkan.**\n",
    "\n",
    "![soal%20hill%20climbing.jpg](attachment:soal%20hill%20climbing.jpg)\n"
   ]
  },
  {
   "cell_type": "markdown",
   "metadata": {},
   "source": [
    "**Langkah pertama adalah menentukan jarak tiap titik menggunakan variabel yang relevan.**"
   ]
  },
  {
   "cell_type": "code",
   "execution_count": null,
   "metadata": {},
   "outputs": [],
   "source": [
    "AB = 8\n",
    "BA = 8\n",
    "BC = 5\n",
    "CB = 5\n",
    "CD = 6\n",
    "DC = 6\n",
    "BD = 4\n",
    "DB = 4\n",
    "AD = 7\n",
    "DA = 7\n",
    "AC = 3\n",
    "CA = 3"
   ]
  },
  {
   "cell_type": "markdown",
   "metadata": {},
   "source": [
    "**Langkah kedua adalah menentukan 4 titik tersebut ke dalam satu himpunan graf. Penentuan ini bebas karena akan dijadikan pembangkit awal agar algoritma dapat berjalan. Misal kita menentukan ABCD sebagai pembangkit awal.**"
   ]
  },
  {
   "cell_type": "code",
   "execution_count": null,
   "metadata": {},
   "outputs": [],
   "source": [
    "p1 = AB+BC+CD\n",
    "p1"
   ]
  },
  {
   "cell_type": "markdown",
   "metadata": {},
   "source": [
    "**Langkah ketiga adalah menukar titik yang ada sesuai urutan.**\n",
    "* p2 = Tukar 1 dengan 2\n",
    "* p3 = Tukar 2 dengan 3\n",
    "* p4 = Tukar 3 dengan 4\n",
    "* p5 = Tukar 4 dengan 1\n",
    "* p6 = Tukar 2 dengan 4\n",
    "* p7 = Tukar 1 dengan 3"
   ]
  },
  {
   "cell_type": "code",
   "execution_count": null,
   "metadata": {},
   "outputs": [],
   "source": [
    "p2 = BA+AC+CD\n",
    "p3 = AC+CB+BD\n",
    "p4 = AB+BD+DC\n",
    "p5 = DB+BC+CA\n",
    "p6 = AD+DC+CB\n",
    "p7 = CB+BA+AD\n",
    "\n",
    "p2, p3, p4, p5, p6, p7"
   ]
  },
  {
   "cell_type": "markdown",
   "metadata": {},
   "source": [
    "**Langkah keempat adalah melihat angka paling kiri, apakah lebih kecil dari root sebelumnya? jika ya, maka lanjutkan iterasi.\n",
    "jika tidak, maka lihat angka di sebelah kanan, jika lebih kecil lanjutkan iterasi. jika tidak, maka lihat angka di sebelah kanannya.**\n",
    " \n",
    "**Begitu seterusnya.**\n",
    " \n",
    "**Jika lihat contoh kasus, 17 lebih kecil dari angka sebelumnya yaitu 19. Artinya, himpunan titik BACD (p2) yang menjadi root baru. Kemudian ulangi langkah ketiga untuk melakukan penukaran titik sesuai dengan root yang baru (BACD).**\n",
    " \n",
    "**Kenapa tidak langsung mengambil angka 12 yang paling kecil? Karena itu menyalahi aturan dari Hill Climbing. Syarat Hill Climbing sederhana, jika angka paling kiri lebih kecil dari root sebelumnya, maka itu yang dijadikan root baru. Tidak peduli di samping kanannya angka lebih kecil lagi.**"
   ]
  },
  {
   "cell_type": "code",
   "execution_count": null,
   "metadata": {},
   "outputs": [],
   "source": [
    "q1 = AB+BC+CD\n",
    "q2 = BC+CA+AD\n",
    "q3 = BA+AD+DC\n",
    "q4 = DA+AC+CB\n",
    "q5 = BD+DC+CA\n",
    "q6 = CA+AB+BD\n",
    "\n",
    "q1, q2, q3, q4, q5, q6"
   ]
  },
  {
   "cell_type": "markdown",
   "metadata": {},
   "source": [
    "**Langkah kelima mirip dengan langkah keempat. Namun sebelumnya, titik yang pernah digunakan sebelumnya harus dicoret dari daftar. seperti q1 yang sama dengan p1 sehingga harus dieliminasi dari daftar.** \n",
    "\n",
    "**Jika kita lihat pada daftar yang baru berurutan dari kiri, q2 (BCAD) menjadi nilai terkecil yang dapat digunakan sebagai root baru.**\n",
    "\n",
    "**Selanjutnya ulangi langkah ketiga untuk melakukan penukaran titik sesuai dengan root yang baru q2 (BCAD)**\n"
   ]
  },
  {
   "cell_type": "code",
   "execution_count": null,
   "metadata": {},
   "outputs": [],
   "source": [
    "r1 = CB+AB+BD\n",
    "r2 = BA+AC+CD\n",
    "r3 = BC+CD+DA\n",
    "r4 = DC+CA+AB\n",
    "r5 = BD+DA+AC\n",
    "r6 = AC+CB+BD\n",
    "\n",
    "r1, r2, r3, r4, r5, r6"
   ]
  },
  {
   "cell_type": "markdown",
   "metadata": {},
   "source": [
    "**Langkah keenam mirip dengan langkah kelima. Namun sebelumnya, titik yang pernah digunakan sebelumnya harus dicoret dari daftar. seperti r2 yang sama dengan p2 sehingga harus dieliminasi dari daftar.** \n",
    "\n",
    "**Jika kita lihat pada daftar yang baru berurutan dari kiri, r5 (BDAC) menjadi nilai terkecil yang dapat digunakan sebagai root baru.**\n",
    "\n",
    "**Selanjutnya ulangi langkah ketiga untuk melakukan penukaran titik sesuai dengan root yang baru r5 (BDAC)**"
   ]
  },
  {
   "cell_type": "code",
   "execution_count": null,
   "metadata": {},
   "outputs": [],
   "source": [
    "s1 = DB+BA+AC\n",
    "s2 = BA+AD+DC\n",
    "s3 = BD+DC+CA\n",
    "s4 = CD+DA+AB\n",
    "s5 = BC+CA+AD\n",
    "s6 = AD+DB+BC\n",
    "\n",
    "s1, s2, s3, s4, s5, s6"
   ]
  },
  {
   "cell_type": "markdown",
   "metadata": {},
   "source": [
    "**Tidak ada titik yang dicoret. Terlihat bahwa s3 (BDCA) = 13 merupakan nilai yang lebih kecil dari root sebelumnya r5 (BDAC) = 14.**\n",
    "\n",
    "**Lakukan iterasi lanjutan seperti langkah ketiga sebelumnya**\n"
   ]
  },
  {
   "cell_type": "code",
   "execution_count": null,
   "metadata": {},
   "outputs": [],
   "source": [
    "t1 = DB+BC+CA\n",
    "t2 = BC+CD+DA\n",
    "t3 = BD+DA+AC\n",
    "t4 = AD+DC+CB\n",
    "t5 = CB+BA+AD\n",
    "t6 = AD+DC+CB\n",
    "\n",
    "t1, t2, t3, t4, t5, t6\n"
   ]
  },
  {
   "cell_type": "markdown",
   "metadata": {},
   "source": [
    "**Tidak ada titik yang dicoret. Terlihat bahwa t1 (DBCA) = 12 merupakan nilai yang lebih kecil dari root sebelumnya s3 (BDCA) = 13.**\n",
    "\n",
    "**Lakukan iterasi lanjutan seperti langkah ketiga sebelumnya**"
   ]
  },
  {
   "cell_type": "code",
   "execution_count": null,
   "metadata": {},
   "outputs": [],
   "source": [
    "u1 = BD+DC+CA\n",
    "u2 = DC+CB+BA\n",
    "u3 = DB+BA+AC\n",
    "u4 = AC+CD+DB\n",
    "u5 = DA+AC+CB\n",
    "u6 = CB+BD+DA\n",
    "\n",
    "u1, u2, u3, u4, u5, u6\n"
   ]
  },
  {
   "cell_type": "markdown",
   "metadata": {},
   "source": [
    "**titik u1 tereliminasi karena sama persis dengan s3 yaitu BDCA.**\n",
    "\n",
    "**Terlihat dari hasil iterasi di atas, tidak ada nilai yang lebih kecil dari t1 (DBCA) = 12. Sehingga dapat disimpulkan bahwa rute terpendek untuk mengunjungi seluruh titik yang ada adalah DBCA.**\n",
    "\n",
    "**Algoritma Hill Climbing memiliki kelemahan dari sisi iterasi yang tidak optimal. Yaitu aturan yang mengharuskan mencari nilai terkecil dari kiri. Padahal bisa saja, ada nilai yang lebih kecil lagi di sebelah kanannya. Inilah kenapa munculnya algoritma optimasi dari Hill Climbing yaitu Steepest Ascent Hill Climbing.**"
   ]
  },
  {
   "cell_type": "code",
   "execution_count": null,
   "metadata": {},
   "outputs": [],
   "source": []
  }
 ],
 "metadata": {
  "kernelspec": {
   "display_name": "Python 3",
   "language": "python",
   "name": "python3"
  },
  "language_info": {
   "codemirror_mode": {
    "name": "ipython",
    "version": 3
   },
   "file_extension": ".py",
   "mimetype": "text/x-python",
   "name": "python",
   "nbconvert_exporter": "python",
   "pygments_lexer": "ipython3",
   "version": "3.8.3"
  }
 },
 "nbformat": 4,
 "nbformat_minor": 4
}
